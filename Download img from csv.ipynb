{
 "cells": [
  {
   "cell_type": "code",
   "execution_count": null,
   "metadata": {},
   "outputs": [],
   "source": [
    "import pandas as pd\n",
    "import requests\n",
    "from os import path"
   ]
  },
  {
   "cell_type": "code",
   "execution_count": null,
   "metadata": {},
   "outputs": [],
   "source": [
    "base_path = 'datasets/attis_tickets'\n",
    "i = 0\n",
    "\n",
    "df = pd.read_csv('ticket_spam_10000.csv')\n",
    "for item in df.values:\n",
    "    \n",
    "    if i % 1000:\n",
    "        print(i)\n",
    "    \n",
    "    pic_url = item[0]\n",
    "    if pic_url.startswith('http'):\n",
    "        filename = \"{}/{}\".format(base_path, pic_url.split('/')[-1])\n",
    "        \n",
    "        if not path.exists(filename):\n",
    "            with open(filename, 'wb') as handle:\n",
    "                response = requests.get(pic_url, stream=True)\n",
    "\n",
    "                if not response.ok:\n",
    "                    print(response)\n",
    "\n",
    "                for block in response.iter_content(1024):\n",
    "                    if not block:\n",
    "                        break\n",
    "\n",
    "                    handle.write(block)"
   ]
  },
  {
   "cell_type": "code",
   "execution_count": null,
   "metadata": {},
   "outputs": [],
   "source": [
    "# Rename\n",
    "import os\n",
    "\n",
    "base_path = 'datasets/attis_tickets/'\n",
    "directory = os.fsencode(base_path)\n",
    "i=1    \n",
    "for file in os.listdir(directory):\n",
    "    filename = os.fsdecode(file)\n",
    "    if 'spam' in filename:\n",
    "        extencion = filename.split('.')[-1]\n",
    "        os.rename(base_path + filename, '{}{}.{}'.format(base_path,i,extencion))\n",
    "        i+=1"
   ]
  },
  {
   "cell_type": "code",
   "execution_count": null,
   "metadata": {},
   "outputs": [],
   "source": [
    "# Ziping\n",
    "from zipfile import ZipFile\n",
    "import os\n",
    "from os.path import basename\n",
    "\n",
    "base_path = 'datasets/attis_tickets/'\n",
    "# create a ZipFile object\n",
    "with ZipFile('attis-spam.zip', 'w') as zipObj:\n",
    "    # Iterate over all the files in directory\n",
    "    for folderName, subfolders, filenames in os.walk(base_path):\n",
    "        for filename in filenames:\n",
    "            #create complete filepath of file in directory\n",
    "            filePath = os.path.join(folderName, filename)\n",
    "            # Add file to zip\n",
    "            zipObj.write(filePath, basename(filePath))"
   ]
  },
  {
   "cell_type": "code",
   "execution_count": null,
   "metadata": {},
   "outputs": [],
   "source": [
    "# Delete\n",
    "import os\n",
    "\n",
    "base_path = 'datasets/attis_tickets/'\n",
    "directory = os.fsencode(base_path)\n",
    "i=1    \n",
    "for file in os.listdir(directory):\n",
    "    filename = os.fsdecode(file)\n",
    "    if not 'zip' in filename:\n",
    "        try:\n",
    "            os.remove(base_path + filename)\n",
    "        except:\n",
    "            pass"
   ]
  },
  {
   "cell_type": "code",
   "execution_count": null,
   "metadata": {},
   "outputs": [],
   "source": []
  }
 ],
 "metadata": {
  "kernelspec": {
   "display_name": "Environment (conda_tensorflow_p36)",
   "language": "python",
   "name": "conda_tensorflow_p36"
  },
  "language_info": {
   "codemirror_mode": {
    "name": "ipython",
    "version": 3
   },
   "file_extension": ".py",
   "mimetype": "text/x-python",
   "name": "python",
   "nbconvert_exporter": "python",
   "pygments_lexer": "ipython3",
   "version": "3.6.6"
  }
 },
 "nbformat": 4,
 "nbformat_minor": 2
}
