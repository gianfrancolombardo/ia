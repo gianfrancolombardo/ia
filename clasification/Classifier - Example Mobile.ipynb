{
 "cells": [
  {
   "cell_type": "markdown",
   "metadata": {},
   "source": [
    "# Parameters"
   ]
  },
  {
   "cell_type": "code",
   "execution_count": 21,
   "metadata": {},
   "outputs": [],
   "source": [
    "# File path\n",
    "FILENAME_TRAIN = './datasets/mobile_classifier/train.csv'\n",
    "FILENAME_TEST = './datasets/mobile_classifier/test.csv'\n",
    "\n",
    "# Column when fetures start \n",
    "FEATURES_INIT = 0\n",
    "# Column when fetures end \n",
    "FEATURES_END = 20\n",
    "\n",
    "# Index of columns that need LabelEnconder \n",
    "FEATURES_LABELENCODER = []\n",
    "FEATURES_LABELENCODER_OBJ = []\n",
    "\n",
    "# Columns that need LabelEnconder \n",
    "FEATURES_ONEHOT = []\n",
    "FEATURES_ONEHOT_OBJ = []\n",
    "\n",
    "# Target column\n",
    "TARGET = 20\n",
    "\n",
    "# UTILS\n",
    "RANDOM_STATE = 1"
   ]
  },
  {
   "cell_type": "markdown",
   "metadata": {},
   "source": [
    "# Pre-processing"
   ]
  },
  {
   "cell_type": "code",
   "execution_count": 22,
   "metadata": {},
   "outputs": [
    {
     "name": "stdout",
     "output_type": "stream",
     "text": [
      "Preprocession successful :)\n"
     ]
    }
   ],
   "source": [
    "import numpy as np\n",
    "import matplotlib.pyplot as plt\n",
    "import pandas as pd\n",
    "\n",
    "from sklearn.preprocessing import LabelEncoder\n",
    "from sklearn.preprocessing import OneHotEncoder\n",
    "from sklearn.compose import ColumnTransformer\n",
    "from sklearn.model_selection import train_test_split\n",
    "from sklearn.preprocessing import StandardScaler\n",
    "from sklearn.model_selection import GridSearchCV # sklearn.grid_search\n",
    "\n",
    "def pre_processing(is_test=True):\n",
    "    \n",
    "    # Importar el data set\n",
    "    dataset = pd.read_csv(FILENAME_TEST if is_test else FILENAME_TRAIN)\n",
    "\n",
    "    X = dataset.iloc[:, FEATURES_INIT:FEATURES_END].values\n",
    "    if not is_test:\n",
    "        y = dataset.iloc[:, TARGET].values\n",
    "\n",
    "    # Codificar datos categóricos\n",
    "    for column in FEATURES_LABELENCODER:\n",
    "        labelencoder = LabelEncoder()\n",
    "        X[:, column] = labelencoder.fit_transform(X[:, column])\n",
    "        FEATURES_LABELENCODER_OBJ.append(labelencoder) \n",
    "\n",
    "\n",
    "    for column in FEATURES_ONEHOT:\n",
    "        transformer = ColumnTransformer(\n",
    "            transformers=[\n",
    "                (\"Tranform_{}\".format(column),     # Un nombre de la transformación\n",
    "                 OneHotEncoder(categories='auto'), # La clase a la que transformar\n",
    "                 [column]                          # Las columnas a transformar.\n",
    "                 )\n",
    "            ], remainder='passthrough'\n",
    "        )\n",
    "\n",
    "        X = transformer.fit_transform(X)\n",
    "        X = X[:, 1:]\n",
    "        FEATURES_ONEHOT_OBJ.append(transformer) \n",
    "\n",
    "        \n",
    "    # Escalado de variables\n",
    "    scaler_x = StandardScaler()\n",
    "    X = scaler_x.fit_transform(X)\n",
    "    \n",
    "    print(\"Preprocession successful :)\")\n",
    "   \n",
    "    if is_test:\n",
    "        return X\n",
    "    else:\n",
    "        # Dividir el data set en conjunto de entrenamiento y conjunto de testing\n",
    "        # X_train, X_test, y_train, y_test = train_test_split(X, y, test_size = 0.2, random_state = RANDOM_STATE)\n",
    "        return train_test_split(X, y, test_size = 0.2, random_state = RANDOM_STATE)\n",
    "    \n",
    "\n",
    "# PREPROCESSING\n",
    "X_train, X_test, y_train, y_test = pre_processing(is_test=False)"
   ]
  },
  {
   "cell_type": "markdown",
   "metadata": {},
   "source": [
    "# Model\n",
    "The follows blocks must set two var\n",
    "\n",
    "    \tclassifier = Estimator like any sklearn.ensemble or KerasClassifier (ANN)\n",
    "    \tparameters = Dictionary of params to optimizations "
   ]
  },
  {
   "cell_type": "code",
   "execution_count": 23,
   "metadata": {},
   "outputs": [],
   "source": [
    "# ANN Example\n",
    "\n",
    "from tensorflow.keras.layers import Dense, Dropout\n",
    "from tensorflow.keras.models import Sequential\n",
    "from sklearn.model_selection import cross_val_score\n",
    "\n",
    "from tensorflow.keras.wrappers.scikit_learn import KerasClassifier\n",
    "\n",
    "\n",
    "def build_classifier(optimizer, dropout, kernel_initializer, init_units):\n",
    "    classifier = Sequential()\n",
    "    classifier.add(Dense(units = 11, kernel_initializer = kernel_initializer,  activation = \"relu\", input_dim = 11))\n",
    "    classifier.add(Dropout(dropout))\n",
    "    classifier.add(Dense(units = init_units, kernel_initializer = kernel_initializer,  activation = \"relu\"))\n",
    "    classifier.add(Dropout(dropout))\n",
    "    classifier.add(Dense(units = 1, kernel_initializer = kernel_initializer,  activation = \"sigmoid\"))\n",
    "    classifier.compile(optimizer = optimizer, loss = \"binary_crossentropy\", metrics = [\"accuracy\"])\n",
    "    return classifier\n",
    "\n",
    "classifier = KerasClassifier(build_fn = build_classifier, verbose=0)\n",
    "parameters = {\n",
    "    'batch_size' : [32],\n",
    "    'epochs' : [100], \n",
    "    'optimizer' : ['nadam'],\n",
    "    'dropout': [0.1],\n",
    "    'kernel_initializer': ['glorot_uniform'],\n",
    "    'init_units': [11]\n",
    "}"
   ]
  },
  {
   "cell_type": "code",
   "execution_count": 24,
   "metadata": {},
   "outputs": [],
   "source": [
    "# RANDOMFOREST Example\n",
    "from sklearn.ensemble import RandomForestClassifier\n",
    "classifier = RandomForestClassifier()\n",
    "parameters = {\n",
    "    'n_estimators': [100, 300, 500],\n",
    "    'max_depth': [None, 3, 10],\n",
    "    'random_state': [RANDOM_STATE]\n",
    "}"
   ]
  },
  {
   "cell_type": "markdown",
   "metadata": {},
   "source": [
    "# Training"
   ]
  },
  {
   "cell_type": "code",
   "execution_count": 25,
   "metadata": {},
   "outputs": [
    {
     "name": "stdout",
     "output_type": "stream",
     "text": [
      "Best parameter: {'max_depth': None, 'n_estimators': 500, 'random_state': 1}\n",
      "Best Accuracy: 0.8825\n"
     ]
    }
   ],
   "source": [
    "grid_search = GridSearchCV(estimator = classifier, \n",
    "                           param_grid = parameters, \n",
    "                           scoring = 'accuracy', \n",
    "                           cv = 10,\n",
    "                           n_jobs=-1)\n",
    "grid_search = grid_search.fit(X_train, y_train)\n",
    "best_parameters = grid_search.best_params_\n",
    "best_accuracy = grid_search.best_score_\n",
    "best_model = grid_search.best_estimator_ \n",
    "\n",
    "print(\"Best parameter:\", best_parameters)\n",
    "print(\"Best Accuracy:\", best_accuracy)"
   ]
  },
  {
   "cell_type": "markdown",
   "metadata": {},
   "source": [
    "# Testing\n",
    "Validating the best model with the test file (if there is)"
   ]
  },
  {
   "cell_type": "code",
   "execution_count": 26,
   "metadata": {},
   "outputs": [
    {
     "name": "stdout",
     "output_type": "stream",
     "text": [
      "Preprocession successful :)\n"
     ]
    }
   ],
   "source": [
    "X_val = pre_processing(is_test=True)"
   ]
  },
  {
   "cell_type": "code",
   "execution_count": 27,
   "metadata": {},
   "outputs": [
    {
     "name": "stdout",
     "output_type": "stream",
     "text": [
      "[2 0 2 3 0 0 1 3 0 1 1 2 2 3 1 2 2 0 2 0 3 2 2 1 1 2 1 0 0 1 2 0 3 1 3 2 2\n",
      " 0 0 0 3 0 0 0 0 1 0 3 3 0 0 1 2 0 2 1 3 3 0 0 1 0 0 0 2 2 2 2 2 3 0 2 0 2\n",
      " 3 1 1 2 0 2 0 2 2 2 0 2 0 0 0 1 1 2 0 3 0 0 3 1 2 1 0 3 0 3 0 1 3 1 0 1 1\n",
      " 2 1 1 2 1 0 3 3 2 0 0 1 0 2 2 2 0 3 3 0 3 1 0 3 2 0 3 2 2 1 0 0 3 0 3 3 0\n",
      " 3 0 0 2 2 1 2 1 3 0 0 0 2 1 3 3 3 0 1 1 3 0 0 0 2 2 1 2 1 3 0 1 3 1 1 3 1\n",
      " 3 3 3 2 1 2 3 2 2 3 2 2 1 3 0 0 0 2 1 2 2 3 3 1 0 1 3 0 3 0 3 1 2 1 0 1 1\n",
      " 2 2 1 3 2 0 3 0 3 1 1 2 0 3 1 0 1 0 3 0 3 0 1 1 2 0 2 0 0 2 1 0 2 1 3 2 1\n",
      " 3 1 1 0 0 3 1 3 0 2 0 2 3 2 1 1 3 2 3 1 0 2 2 1 2 3 2 1 1 0 0 3 1 2 2 3 2\n",
      " 2 0 0 2 0 0 3 3 2 3 1 1 1 3 3 0 0 2 3 0 3 3 0 1 1 2 1 3 3 2 0 1 0 0 0 3 3\n",
      " 0 0 0 0 0 0 2 0 1 0 0 2 3 2 2 2 1 3 0 1 2 0 3 0 3 2 3 3 0 2 2 2 1 0 1 0 3\n",
      " 2 0 2 0 2 2 0 1 2 3 1 0 3 2 3 0 0 3 3 0 0 1 1 0 1 0 3 2 0 0 0 1 3 1 0 0 2\n",
      " 3 1 1 3 2 1 1 1 3 1 2 0 1 1 0 2 0 1 2 3 1 3 3 1 3 0 3 0 1 1 0 0 0 1 2 2 1\n",
      " 1 3 2 2 0 0 0 0 1 1 0 0 2 0 3 3 0 3 2 0 3 0 1 3 3 3 1 2 0 2 3 3 2 2 3 2 1\n",
      " 3 0 1 3 3 0 3 0 2 2 3 3 1 1 0 0 0 1 3 1 0 2 3 2 1 2 0 3 0 0 3 0 0 2 3 0 0\n",
      " 2 0 3 0 2 2 2 2 1 1 1 3 0 1 0 2 3 0 0 0 3 3 3 3 1 2 3 0 0 1 0 1 3 1 1 1 3\n",
      " 0 3 0 3 1 2 2 2 3 3 2 0 3 3 0 3 0 0 1 0 1 0 3 0 0 1 3 2 1 0 3 2 0 3 3 1 1\n",
      " 3 2 1 2 2 1 1 3 0 2 3 1 3 3 1 1 3 0 3 3 2 1 2 0 3 0 0 1 3 2 0 1 3 2 3 0 0\n",
      " 2 2 2 3 3 1 0 0 0 3 3 1 3 3 2 2 3 0 0 2 1 3 3 2 2 2 2 3 1 0 3 2 3 3 2 1 0\n",
      " 0 2 3 1 2 0 1 2 3 1 2 1 0 3 1 2 0 3 3 3 3 2 3 3 3 2 2 3 2 0 0 0 0 2 3 0 3\n",
      " 3 2 1 3 0 0 2 1 0 2 2 2 1 3 1 3 3 3 2 1 1 0 0 1 1 2 0 1 1 3 1 3 0 0 1 0 3\n",
      " 2 0 3 1 0 2 3 0 2 0 1 0 2 3 3 3 2 3 3 2 1 0 0 0 3 3 3 0 2 3 3 0 2 0 0 0 0\n",
      " 2 1 2 3 3 2 1 0 0 3 3 1 0 3 1 2 2 3 1 3 0 1 0 2 3 3 0 1 3 0 1 2 0 3 1 0 3\n",
      " 3 3 0 1 2 1 0 2 2 3 3 3 0 2 3 3 3 3 1 3 0 0 1 0 2 2 3 0 3 1 1 3 2 0 3 3 2\n",
      " 2 3 1 2 0 0 2 0 2 3 0 1 0 0 3 0 0 0 0 2 3 3 3 0 0 1 0 0 1 1 3 2 2 3 3 3 3\n",
      " 3 0 2 2 3 2 2 1 3 1 0 1 2 3 0 3 3 3 3 1 3 1 1 0 3 3 2 1 3 1 3 2 1 2 2 1 3\n",
      " 3 1 0 0 3 2 1 3 0 3 0 3 1 3 3 3 1 3 0 1 2 1 1 3 2 0 0 0 2 3 2 3 3 1 0 3 3\n",
      " 2 3 3 3 1 3 1 0 1 0 2 3 3 3 0 1 0 1 2 1 3 3 2 3 0 1 1 3 1 2 3 2 1 1 3 1 1\n",
      " 0]\n"
     ]
    }
   ],
   "source": [
    "y_pred = best_model.predict(X_val)\n",
    "print(y_pred)"
   ]
  },
  {
   "cell_type": "code",
   "execution_count": null,
   "metadata": {},
   "outputs": [],
   "source": []
  }
 ],
 "metadata": {
  "kernelspec": {
   "display_name": "Environment (conda_amazonei_tensorflow_p36)",
   "language": "python",
   "name": "conda_amazonei_tensorflow_p36"
  },
  "language_info": {
   "codemirror_mode": {
    "name": "ipython",
    "version": 3
   },
   "file_extension": ".py",
   "mimetype": "text/x-python",
   "name": "python",
   "nbconvert_exporter": "python",
   "pygments_lexer": "ipython3",
   "version": "3.6.6"
  }
 },
 "nbformat": 4,
 "nbformat_minor": 2
}
