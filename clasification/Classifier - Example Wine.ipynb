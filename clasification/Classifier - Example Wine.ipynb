{
 "cells": [
  {
   "cell_type": "markdown",
   "metadata": {},
   "source": [
    "# Parameters"
   ]
  },
  {
   "cell_type": "code",
   "execution_count": 1,
   "metadata": {},
   "outputs": [],
   "source": [
    "# File path\n",
    "FILENAME = './datasets/winequality_classifier.csv'\n",
    "\n",
    "# Column when fetures start \n",
    "FEATURES_INIT = 0\n",
    "# Column when fetures end \n",
    "FEATURES_END = 12\n",
    "\n",
    "# Index of columns that need LabelEnconder \n",
    "FEATURES_LABELENCODER = [0]\n",
    "FEATURES_LABELENCODER_OBJ = []\n",
    "\n",
    "# Columns that need LabelEnconder \n",
    "FEATURES_ONEHOT = []\n",
    "FEATURES_ONEHOT_OBJ = []\n",
    "\n",
    "# Target column\n",
    "TARGET = 12\n",
    "\n",
    "# UTILS\n",
    "RANDOM_STATE = 1"
   ]
  },
  {
   "cell_type": "markdown",
   "metadata": {},
   "source": [
    "# Pre-processing"
   ]
  },
  {
   "cell_type": "code",
   "execution_count": 2,
   "metadata": {},
   "outputs": [
    {
     "name": "stderr",
     "output_type": "stream",
     "text": [
      "/home/ubuntu/anaconda3/envs/amazonei_tensorflow_p36/lib/python3.6/site-packages/sklearn/utils/validation.py:595: DataConversionWarning: Data with input dtype object was converted to float64 by StandardScaler.\n",
      "  warnings.warn(msg, DataConversionWarning)\n",
      "/home/ubuntu/anaconda3/envs/amazonei_tensorflow_p36/lib/python3.6/site-packages/sklearn/utils/validation.py:595: DataConversionWarning: Data with input dtype object was converted to float64 by StandardScaler.\n",
      "  warnings.warn(msg, DataConversionWarning)\n",
      "/home/ubuntu/anaconda3/envs/amazonei_tensorflow_p36/lib/python3.6/site-packages/sklearn/utils/validation.py:595: DataConversionWarning: Data with input dtype object was converted to float64 by StandardScaler.\n",
      "  warnings.warn(msg, DataConversionWarning)\n"
     ]
    }
   ],
   "source": [
    "import numpy as np\n",
    "import matplotlib.pyplot as plt\n",
    "import pandas as pd\n",
    "\n",
    "from sklearn.preprocessing import LabelEncoder\n",
    "from sklearn.preprocessing import OneHotEncoder\n",
    "from sklearn.compose import ColumnTransformer\n",
    "from sklearn.model_selection import train_test_split\n",
    "from sklearn.preprocessing import StandardScaler\n",
    "from sklearn.model_selection import GridSearchCV # sklearn.grid_search\n",
    "\n",
    "# Importar el data set\n",
    "dataset = pd.read_csv(FILENAME)\n",
    "\n",
    "# Limpiar NaN\n",
    "dataset = dataset.replace([np.inf, -np.inf], np.nan).dropna()\n",
    "\n",
    "X = dataset.iloc[:, FEATURES_INIT:FEATURES_END].values\n",
    "y = dataset.iloc[:, TARGET].values\n",
    "\n",
    "# Codificar datos categóricos\n",
    "for column in FEATURES_LABELENCODER:\n",
    "    labelencoder = LabelEncoder()\n",
    "    X[:, column] = labelencoder.fit_transform(X[:, column])\n",
    "    FEATURES_LABELENCODER_OBJ.append(labelencoder) \n",
    "\n",
    "\n",
    "for column in FEATURES_ONEHOT:\n",
    "    transformer = ColumnTransformer(\n",
    "        transformers=[\n",
    "            (\"Tranform_{}\".format(column),     \n",
    "             OneHotEncoder(categories='auto'), \n",
    "             [column]                          # Las columnas a transformar.\n",
    "             )\n",
    "        ], remainder='passthrough'\n",
    "    )\n",
    "\n",
    "    X = transformer.fit_transform(X)\n",
    "    X = X[:, 1:]\n",
    "    FEATURES_ONEHOT_OBJ.append(transformer) \n",
    "\n",
    "    \n",
    "# Dividir el data set en conjunto de entrenamiento y conjunto de testing\n",
    "X_train, X_test, y_train, y_test = train_test_split(X, y, test_size = 0.2, random_state = RANDOM_STATE)\n",
    "\n",
    "# Escalado de variables\n",
    "scaler_x = StandardScaler()\n",
    "X_train = scaler_x.fit_transform(X_train)\n",
    "X_test = scaler_x.transform(X_test)\n"
   ]
  },
  {
   "cell_type": "markdown",
   "metadata": {},
   "source": [
    "# Model\n",
    "The follows blocks must set two var\n",
    "\n",
    "    \tclassifier = Estimator like any sklearn.ensemble or KerasClassifier (ANN)\n",
    "    \tparameters = Dictionary of params to optimizations "
   ]
  },
  {
   "cell_type": "code",
   "execution_count": 15,
   "metadata": {},
   "outputs": [],
   "source": [
    "# ANN Example\n",
    "\n",
    "from tensorflow.keras.layers import Dense, Dropout\n",
    "from tensorflow.keras.models import Sequential\n",
    "from sklearn.model_selection import cross_val_score\n",
    "\n",
    "from tensorflow.keras.wrappers.scikit_learn import KerasClassifier\n",
    "\n",
    "\n",
    "def build_classifier(optimizer, dropout, kernel_initializer, init_units):\n",
    "    classifier = Sequential()\n",
    "    classifier.add(Dense(units = 11, kernel_initializer = kernel_initializer,  activation = \"relu\", input_dim = 11))\n",
    "    classifier.add(Dropout(dropout))\n",
    "    classifier.add(Dense(units = init_units, kernel_initializer = kernel_initializer,  activation = \"relu\"))\n",
    "    classifier.add(Dropout(dropout))\n",
    "    classifier.add(Dense(units = 1, kernel_initializer = kernel_initializer,  activation = \"sigmoid\"))\n",
    "    classifier.compile(optimizer = optimizer, loss = \"binary_crossentropy\", metrics = [\"accuracy\"])\n",
    "    return classifier\n",
    "\n",
    "classifier = KerasClassifier(build_fn = build_classifier, verbose=0)\n",
    "parameters = {\n",
    "    'batch_size' : [32],\n",
    "    'epochs' : [100], \n",
    "    'optimizer' : ['nadam'],\n",
    "    'dropout': [0.1],\n",
    "    'kernel_initializer': ['glorot_uniform'],\n",
    "    'init_units': [11]\n",
    "}"
   ]
  },
  {
   "cell_type": "code",
   "execution_count": 3,
   "metadata": {},
   "outputs": [],
   "source": [
    "# RANDOMFOREST Example\n",
    "from sklearn.ensemble import RandomForestClassifier\n",
    "classifier = RandomForestClassifier()\n",
    "\n",
    "# Number of trees in random forest\n",
    "n_estimators = [int(x) for x in np.linspace(start = 200, stop = 2000, num = 200)]\n",
    "# Number of features to consider at every split\n",
    "max_features = ['auto', 'sqrt']\n",
    "# Maximum number of levels in tree\n",
    "max_depth = [int(x) for x in np.linspace(10, 110, num = 50)]\n",
    "max_depth.append(None)\n",
    "# Minimum number of samples required to split a node\n",
    "min_samples_split = [2, 5, 10]\n",
    "# Minimum number of samples required at each leaf node\n",
    "min_samples_leaf = [1, 2, 4]\n",
    "# Method of selecting samples for training each tree\n",
    "bootstrap = [True, False]\n",
    "# Create the random grid\n",
    "parameters = {'n_estimators': n_estimators,\n",
    "               'max_features': max_features,\n",
    "               'max_depth': max_depth,\n",
    "               'min_samples_split': min_samples_split,\n",
    "               'min_samples_leaf': min_samples_leaf,\n",
    "               'bootstrap': bootstrap,\n",
    "               'random_state': [RANDOM_STATE]}"
   ]
  },
  {
   "cell_type": "markdown",
   "metadata": {},
   "source": [
    "# Training"
   ]
  },
  {
   "cell_type": "code",
   "execution_count": null,
   "metadata": {},
   "outputs": [
    {
     "name": "stderr",
     "output_type": "stream",
     "text": [
      "/home/ubuntu/anaconda3/envs/amazonei_tensorflow_p36/lib/python3.6/site-packages/sklearn/model_selection/_split.py:652: Warning: The least populated class in y has only 4 members, which is too few. The minimum number of members in any class cannot be less than n_splits=10.\n",
      "  % (min_groups, self.n_splits)), Warning)\n",
      "/home/ubuntu/anaconda3/envs/amazonei_tensorflow_p36/lib/python3.6/site-packages/sklearn/externals/joblib/externals/loky/process_executor.py:706: UserWarning: A worker stopped while some jobs were given to the executor. This can be caused by a too short worker timeout or by a memory leak.\n",
      "  \"timeout or by a memory leak.\", UserWarning\n"
     ]
    }
   ],
   "source": [
    "grid_search = GridSearchCV(estimator = classifier, \n",
    "                           param_grid = parameters, \n",
    "                           scoring = 'accuracy', \n",
    "                           cv = 10,\n",
    "                           n_jobs=-1)\n",
    "grid_search = grid_search.fit(X_train, y_train)\n",
    "best_parameters = grid_search.best_params_\n",
    "best_accuracy = grid_search.best_score_\n",
    "\n",
    "print(\"Best parameter:\", best_parameters)\n",
    "print(\"Best Accuracy:\", best_accuracy)"
   ]
  },
  {
   "cell_type": "code",
   "execution_count": null,
   "metadata": {},
   "outputs": [],
   "source": []
  }
 ],
 "metadata": {
  "kernelspec": {
   "display_name": "Environment (conda_amazonei_tensorflow_p36)",
   "language": "python",
   "name": "conda_amazonei_tensorflow_p36"
  },
  "language_info": {
   "codemirror_mode": {
    "name": "ipython",
    "version": 3
   },
   "file_extension": ".py",
   "mimetype": "text/x-python",
   "name": "python",
   "nbconvert_exporter": "python",
   "pygments_lexer": "ipython3",
   "version": "3.6.6"
  }
 },
 "nbformat": 4,
 "nbformat_minor": 2
}
