{
 "cells": [
  {
   "cell_type": "markdown",
   "metadata": {},
   "source": [
    "# Parameters"
   ]
  },
  {
   "cell_type": "code",
   "execution_count": 1,
   "metadata": {},
   "outputs": [],
   "source": [
    "FILENAME = './datasets/churn_modelling.csv'\n",
    "FEATURES_INIT = 3\n",
    "FEATURES_END = 13\n",
    "FEATURES_LABELENCODER = [1, 2]\n",
    "FEATURES_LABELENCODER_OBJ = []\n",
    "FEATURES_ONEHOT = [1]\n",
    "FEATURES_ONEHOT_OBJ = []\n",
    "TARGET = 13\n",
    "RANDOM_STATE = 1"
   ]
  },
  {
   "cell_type": "markdown",
   "metadata": {},
   "source": [
    "# Pre-processing"
   ]
  },
  {
   "cell_type": "code",
   "execution_count": 11,
   "metadata": {},
   "outputs": [
    {
     "name": "stderr",
     "output_type": "stream",
     "text": [
      "/home/ubuntu/anaconda3/envs/amazonei_tensorflow_p36/lib/python3.6/site-packages/sklearn/utils/validation.py:595: DataConversionWarning: Data with input dtype object was converted to float64 by StandardScaler.\n",
      "  warnings.warn(msg, DataConversionWarning)\n",
      "/home/ubuntu/anaconda3/envs/amazonei_tensorflow_p36/lib/python3.6/site-packages/sklearn/utils/validation.py:595: DataConversionWarning: Data with input dtype object was converted to float64 by StandardScaler.\n",
      "  warnings.warn(msg, DataConversionWarning)\n",
      "/home/ubuntu/anaconda3/envs/amazonei_tensorflow_p36/lib/python3.6/site-packages/sklearn/utils/validation.py:595: DataConversionWarning: Data with input dtype object was converted to float64 by StandardScaler.\n",
      "  warnings.warn(msg, DataConversionWarning)\n"
     ]
    }
   ],
   "source": [
    "import numpy as np\n",
    "import matplotlib.pyplot as plt\n",
    "import pandas as pd\n",
    "\n",
    "from sklearn.preprocessing import LabelEncoder\n",
    "from sklearn.preprocessing import OneHotEncoder\n",
    "from sklearn.compose import ColumnTransformer\n",
    "from sklearn.model_selection import train_test_split\n",
    "from sklearn.preprocessing import StandardScaler\n",
    "from sklearn.model_selection import GridSearchCV # sklearn.grid_search\n",
    "\n",
    "# Importar el data set\n",
    "dataset = pd.read_csv(FILENAME)\n",
    "\n",
    "X = dataset.iloc[:, FEATURES_INIT:FEATURES_END].values\n",
    "y = dataset.iloc[:, TARGET].values\n",
    "\n",
    "# Codificar datos categóricos\n",
    "for column in FEATURES_LABELENCODER:\n",
    "    labelencoder = LabelEncoder()\n",
    "    X[:, column] = labelencoder.fit_transform(X[:, column])\n",
    "    FEATURES_LABELENCODER_OBJ.append(labelencoder) \n",
    "\n",
    "\n",
    "for column in FEATURES_ONEHOT:\n",
    "    transformer = ColumnTransformer(\n",
    "        transformers=[\n",
    "            (\"Tranform_{}\".format(column),     # Un nombre de la transformación\n",
    "             OneHotEncoder(categories='auto'), # La clase a la que transformar\n",
    "             [column]                          # Las columnas a transformar.\n",
    "             )\n",
    "        ], remainder='passthrough'\n",
    "    )\n",
    "\n",
    "    X = transformer.fit_transform(X)\n",
    "    X = X[:, 1:]\n",
    "    FEATURES_ONEHOT_OBJ.append(transformer) \n",
    "\n",
    "    \n",
    "# Dividir el data set en conjunto de entrenamiento y conjunto de testing\n",
    "X_train, X_test, y_train, y_test = train_test_split(X, y, test_size = 0.2, random_state = RANDOM_STATE)\n",
    "\n",
    "# Escalado de variables\n",
    "scaler_x = StandardScaler()\n",
    "X_train = scaler_x.fit_transform(X_train)\n",
    "X_test = scaler_x.transform(X_test)\n"
   ]
  },
  {
   "cell_type": "markdown",
   "metadata": {},
   "source": [
    "# Model"
   ]
  },
  {
   "cell_type": "code",
   "execution_count": 15,
   "metadata": {},
   "outputs": [],
   "source": [
    "# ANN Example\n",
    "\n",
    "from tensorflow.keras.layers import Dense, Dropout\n",
    "from tensorflow.keras.models import Sequential\n",
    "from sklearn.model_selection import cross_val_score\n",
    "\n",
    "from tensorflow.keras.wrappers.scikit_learn import KerasClassifier\n",
    "\n",
    "\n",
    "def build_classifier(optimizer, dropout, kernel_initializer, init_units):\n",
    "    classifier = Sequential()\n",
    "    classifier.add(Dense(units = 11, kernel_initializer = kernel_initializer,  activation = \"relu\", input_dim = 11))\n",
    "    classifier.add(Dropout(dropout))\n",
    "    classifier.add(Dense(units = init_units, kernel_initializer = kernel_initializer,  activation = \"relu\"))\n",
    "    classifier.add(Dropout(dropout))\n",
    "    classifier.add(Dense(units = 1, kernel_initializer = kernel_initializer,  activation = \"sigmoid\"))\n",
    "    classifier.compile(optimizer = optimizer, loss = \"binary_crossentropy\", metrics = [\"accuracy\"])\n",
    "    return classifier\n",
    "\n",
    "classifier = KerasClassifier(build_fn = build_classifier, verbose=0)\n",
    "parameters = {\n",
    "    'batch_size' : [32],\n",
    "    'epochs' : [100], \n",
    "    'optimizer' : ['nadam'],\n",
    "    'dropout': [0.1],\n",
    "    'kernel_initializer': ['glorot_uniform'],\n",
    "    'init_units': [11]\n",
    "}"
   ]
  },
  {
   "cell_type": "code",
   "execution_count": 21,
   "metadata": {},
   "outputs": [],
   "source": [
    "# RANDOMFOREST Example\n",
    "from sklearn.ensemble import RandomForestClassifier\n",
    "classifier = RandomForestClassifier()\n",
    "parameters = {\n",
    "    'n_estimators': [100, 300, 500],\n",
    "    'max_depth': [None, 3, 10],\n",
    "    'random_state': [RANDOM_STATE]\n",
    "}"
   ]
  },
  {
   "cell_type": "markdown",
   "metadata": {},
   "source": [
    "# Training"
   ]
  },
  {
   "cell_type": "code",
   "execution_count": 22,
   "metadata": {},
   "outputs": [
    {
     "name": "stdout",
     "output_type": "stream",
     "text": [
      "Best parameter: {'max_depth': 10, 'n_estimators': 100, 'random_state': 1}\n",
      "Best Accuracy: 0.864125\n"
     ]
    }
   ],
   "source": [
    "grid_search = GridSearchCV(estimator = classifier, \n",
    "                           param_grid = parameters, \n",
    "                           scoring = 'accuracy', \n",
    "                           cv = 10,\n",
    "                           n_jobs=-1)\n",
    "grid_search = grid_search.fit(X_train, y_train)\n",
    "best_parameters = grid_search.best_params_\n",
    "best_accuracy = grid_search.best_score_\n",
    "\n",
    "print(\"Best parameter:\", best_parameters)\n",
    "print(\"Best Accuracy:\", best_accuracy)"
   ]
  },
  {
   "cell_type": "code",
   "execution_count": null,
   "metadata": {},
   "outputs": [],
   "source": []
  }
 ],
 "metadata": {
  "kernelspec": {
   "display_name": "Environment (conda_amazonei_tensorflow_p36)",
   "language": "python",
   "name": "conda_amazonei_tensorflow_p36"
  },
  "language_info": {
   "codemirror_mode": {
    "name": "ipython",
    "version": 3
   },
   "file_extension": ".py",
   "mimetype": "text/x-python",
   "name": "python",
   "nbconvert_exporter": "python",
   "pygments_lexer": "ipython3",
   "version": "3.6.6"
  }
 },
 "nbformat": 4,
 "nbformat_minor": 2
}
