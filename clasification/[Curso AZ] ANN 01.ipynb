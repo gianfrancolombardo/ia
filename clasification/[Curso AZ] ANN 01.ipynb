{
 "cells": [
  {
   "cell_type": "code",
   "execution_count": 1,
   "metadata": {},
   "outputs": [
    {
     "name": "stderr",
     "output_type": "stream",
     "text": [
      "/home/ubuntu/anaconda3/envs/amazonei_tensorflow_p36/lib/python3.6/site-packages/sklearn/utils/validation.py:595: DataConversionWarning: Data with input dtype object was converted to float64 by StandardScaler.\n",
      "  warnings.warn(msg, DataConversionWarning)\n",
      "/home/ubuntu/anaconda3/envs/amazonei_tensorflow_p36/lib/python3.6/site-packages/sklearn/utils/validation.py:595: DataConversionWarning: Data with input dtype object was converted to float64 by StandardScaler.\n",
      "  warnings.warn(msg, DataConversionWarning)\n",
      "/home/ubuntu/anaconda3/envs/amazonei_tensorflow_p36/lib/python3.6/site-packages/sklearn/utils/validation.py:595: DataConversionWarning: Data with input dtype object was converted to float64 by StandardScaler.\n",
      "  warnings.warn(msg, DataConversionWarning)\n"
     ]
    }
   ],
   "source": [
    "#!/usr/bin/env python3\n",
    "# -*- coding: utf-8 -*-\n",
    "\n",
    "# Cómo importar las librerías\n",
    "import numpy as np\n",
    "import matplotlib.pyplot as plt\n",
    "import pandas as pd\n",
    "\n",
    "# Importar el data set\n",
    "dataset = pd.read_csv('./deeplearning-az/datasets/Part 1 - Artificial Neural Networks (ANN)/Churn_Modelling.csv')\n",
    "\n",
    "X = dataset.iloc[:, 3:13].values\n",
    "y = dataset.iloc[:, 13].values\n",
    "\n",
    "# Codificar datos categóricos\n",
    "from sklearn.preprocessing import LabelEncoder\n",
    "labelencoder_X_1 = LabelEncoder()\n",
    "X[:, 1] = labelencoder_X_1.fit_transform(X[:, 1])\n",
    "labelencoder_X_2 = LabelEncoder()\n",
    "X[:, 2] = labelencoder_X_2.fit_transform(X[:, 2])\n",
    "\n",
    "#El OneHotEncoder en las nuevas versiones está OBSOLETO\n",
    "#onehotencoder = OneHotEncoder(categorical_features=[1])\n",
    "#X = onehotencoder.fit_transform(X).toarray()\n",
    "\n",
    "from sklearn.preprocessing import OneHotEncoder\n",
    "from sklearn.compose import ColumnTransformer\n",
    "\n",
    "transformer = ColumnTransformer(\n",
    "    transformers=[\n",
    "        (\"Churn_Modelling\",        # Un nombre de la transformación\n",
    "         OneHotEncoder(categories='auto'), # La clase a la que transformar\n",
    "         [1]            # Las columnas a transformar.\n",
    "         )\n",
    "    ], remainder='passthrough'\n",
    ")\n",
    "\n",
    "X = transformer.fit_transform(X)\n",
    "X = X[:, 1:]\n",
    "\n",
    "# Dividir el data set en conjunto de entrenamiento y conjunto de testing\n",
    "from sklearn.model_selection import train_test_split\n",
    "X_train, X_test, y_train, y_test = train_test_split(X, y, test_size = 0.2, random_state = 0)\n",
    "\n",
    "# Escalado de variables\n",
    "from sklearn.preprocessing import StandardScaler\n",
    "sc_X = StandardScaler()\n",
    "X_train = sc_X.fit_transform(X_train)\n",
    "X_test = sc_X.transform(X_test)\n"
   ]
  },
  {
   "cell_type": "code",
   "execution_count": 22,
   "metadata": {},
   "outputs": [],
   "source": [
    "\n",
    "# Importar Keras y librerías adicionales\n",
    "from tensorflow.keras.layers import Dense, Dropout\n",
    "from tensorflow.keras.models import Sequential\n",
    "from tensorflow.keras.wrappers.scikit_learn import KerasClassifier\n",
    "from sklearn.model_selection import cross_val_score\n",
    "\n",
    "### Ajustar la *RNA*\n",
    "from sklearn.model_selection import GridSearchCV # sklearn.grid_search\n",
    "\n",
    "\n",
    "def build_classifier(optimizer, dropout, kernel_initializer, init_units):\n",
    "    classifier = Sequential()\n",
    "    classifier.add(Dense(units = 11, kernel_initializer = kernel_initializer,  activation = \"relu\", input_dim = 11))\n",
    "    classifier.add(Dropout(dropout))\n",
    "    classifier.add(Dense(units = init_units, kernel_initializer = kernel_initializer,  activation = \"relu\"))\n",
    "    classifier.add(Dropout(dropout))\n",
    "    classifier.add(Dense(units = 1, kernel_initializer = kernel_initializer,  activation = \"sigmoid\"))\n",
    "    classifier.compile(optimizer = optimizer, loss = \"binary_crossentropy\", metrics = [\"accuracy\"])\n",
    "    return classifier\n",
    "\n"
   ]
  },
  {
   "cell_type": "code",
   "execution_count": 27,
   "metadata": {},
   "outputs": [],
   "source": [
    "classifier = KerasClassifier(build_fn = build_classifier, verbose=0)\n",
    "\n",
    "parameters = {\n",
    "    'batch_size' : [32],\n",
    "    'epochs' : [100], \n",
    "    'optimizer' : ['adam', 'rmsprop', 'nadam'],\n",
    "    'dropout': [0.1],\n",
    "    'kernel_initializer': ['glorot_uniform', 'random_uniform'],\n",
    "    'init_units': [11]\n",
    "}\n",
    "\n",
    "grid_search = GridSearchCV(estimator = classifier, \n",
    "                           param_grid = parameters, \n",
    "                           scoring = 'accuracy', \n",
    "                           cv = 10,\n",
    "                          n_jobs=-1)\n",
    "grid_search = grid_search.fit(X_train, y_train)\n",
    "best_parameters = grid_search.best_params_\n",
    "best_accuracy = grid_search.best_score_"
   ]
  },
  {
   "cell_type": "code",
   "execution_count": 28,
   "metadata": {},
   "outputs": [
    {
     "data": {
      "text/plain": [
       "{'batch_size': 32,\n",
       " 'dropout': 0.1,\n",
       " 'epochs': 100,\n",
       " 'init_units': 11,\n",
       " 'kernel_initializer': 'glorot_uniform',\n",
       " 'optimizer': 'nadam'}"
      ]
     },
     "execution_count": 28,
     "metadata": {},
     "output_type": "execute_result"
    }
   ],
   "source": [
    "best_parameters"
   ]
  },
  {
   "cell_type": "code",
   "execution_count": 29,
   "metadata": {},
   "outputs": [
    {
     "data": {
      "text/plain": [
       "0.861125"
      ]
     },
     "execution_count": 29,
     "metadata": {},
     "output_type": "execute_result"
    }
   ],
   "source": [
    "best_accuracy"
   ]
  },
  {
   "cell_type": "code",
   "execution_count": null,
   "metadata": {},
   "outputs": [],
   "source": []
  }
 ],
 "metadata": {
  "kernelspec": {
   "display_name": "Environment (conda_amazonei_tensorflow_p36)",
   "language": "python",
   "name": "conda_amazonei_tensorflow_p36"
  },
  "language_info": {
   "codemirror_mode": {
    "name": "ipython",
    "version": 3
   },
   "file_extension": ".py",
   "mimetype": "text/x-python",
   "name": "python",
   "nbconvert_exporter": "python",
   "pygments_lexer": "ipython3",
   "version": "3.6.6"
  }
 },
 "nbformat": 4,
 "nbformat_minor": 2
}
